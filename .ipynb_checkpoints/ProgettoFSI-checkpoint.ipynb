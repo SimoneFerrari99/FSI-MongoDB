{
 "cells": [
  {
   "cell_type": "markdown",
   "metadata": {},
   "source": [
    "# Progetto Fondamenti di Sitemi Informativi 2022\n",
    "*Università degli Studi di Verona, Corso di Laurea Magistrale in Ingegneria e Scienze Informatiche*\n",
    "## Simone Ferrari, VR479912\n",
    "**Dataset**: Verona Card  \n",
    "**Sistema**: MongoDB"
   ]
  },
  {
   "cell_type": "markdown",
   "metadata": {},
   "source": [
    "# Fase 1: Lettura, analisi ed inserimento dati in MongoDB"
   ]
  },
  {
   "cell_type": "markdown",
   "metadata": {},
   "source": [
    "#### Import delle librerie"
   ]
  },
  {
   "cell_type": "code",
   "execution_count": 1,
   "metadata": {},
   "outputs": [],
   "source": [
    "import warnings\n",
    "warnings.filterwarnings('ignore')\n",
    "\n",
    "import pandas as pd                # Pandas: gestione di dataframe\n",
    "from datetime import datetime      # datetime: gestione dei formati data\n",
    "from tqdm import tqdm              # tqdm: generazione di progressbar\n",
    "import itertools                   # itertools: permette di iterare solo un numero max di elementi\n",
    "from dateutil import parser        # dateutil: gestione delle date\n",
    "import matplotlib.pyplot as plt    # matplotlib: generazione di grafici\n",
    "\n",
    "from pymongo import MongoClient    # MongoClient: client per connessione a MongoDB\n",
    "import pymongo                     # Pymongo: libreria per interrogare MongoDB"
   ]
  },
  {
   "cell_type": "markdown",
   "metadata": {},
   "source": [
    "#### Funzioni di varia utilità"
   ]
  },
  {
   "cell_type": "code",
   "execution_count": 2,
   "metadata": {},
   "outputs": [],
   "source": [
    "# Funzione che ritorna una lista dei valori distinti presenti nella colonna column del dataframe\n",
    "def valuesOf(dataframe, column):\n",
    "    values = []\n",
    "\n",
    "    for elem in dataframe[column]:\n",
    "        if elem not in values:\n",
    "            values.append(elem)\n",
    "\n",
    "    values.sort()\n",
    "    return values"
   ]
  },
  {
   "cell_type": "markdown",
   "metadata": {},
   "source": [
    "#### lettura dei file .csv"
   ]
  },
  {
   "cell_type": "code",
   "execution_count": 3,
   "metadata": {},
   "outputs": [],
   "source": [
    "header_list = [\"Date\", \"Time\", \"POI\", \"Device\", \"VrC Serial\", \"Activation Date\", \"In Out\", \"Sale\", \"Profile\"]\n",
    "\n",
    "df2014 = pd.read_csv(\"dati_2014.csv\", names=header_list)\n",
    "df2015 = pd.read_csv(\"dati_2015.csv\", names=header_list)\n",
    "df2016 = pd.read_csv(\"dati_2016.csv\", names=header_list)\n",
    "df2017 = pd.read_csv(\"dati_2017.csv\", names=header_list)\n",
    "df2018 = pd.read_csv(\"dati_2018.csv\", names=header_list)\n",
    "df2019 = pd.read_csv(\"dati_2019.csv\", names=header_list)\n",
    "df2020 = pd.read_csv(\"dati_2020.csv\", names=header_list)"
   ]
  },
  {
   "cell_type": "code",
   "execution_count": 4,
   "metadata": {},
   "outputs": [
    {
     "data": {
      "text/html": [
       "<div>\n",
       "<style scoped>\n",
       "    .dataframe tbody tr th:only-of-type {\n",
       "        vertical-align: middle;\n",
       "    }\n",
       "\n",
       "    .dataframe tbody tr th {\n",
       "        vertical-align: top;\n",
       "    }\n",
       "\n",
       "    .dataframe thead th {\n",
       "        text-align: right;\n",
       "    }\n",
       "</style>\n",
       "<table border=\"1\" class=\"dataframe\">\n",
       "  <thead>\n",
       "    <tr style=\"text-align: right;\">\n",
       "      <th></th>\n",
       "      <th>Date</th>\n",
       "      <th>Time</th>\n",
       "      <th>POI</th>\n",
       "      <th>Device</th>\n",
       "      <th>VrC Serial</th>\n",
       "      <th>Activation Date</th>\n",
       "      <th>In Out</th>\n",
       "      <th>Sale</th>\n",
       "      <th>Profile</th>\n",
       "    </tr>\n",
       "  </thead>\n",
       "  <tbody>\n",
       "    <tr>\n",
       "      <th>0</th>\n",
       "      <td>30-12-14</td>\n",
       "      <td>18:40:38</td>\n",
       "      <td>Tomba Giulietta</td>\n",
       "      <td>40</td>\n",
       "      <td>049B31523F3880</td>\n",
       "      <td>30-12-14</td>\n",
       "      <td>in</td>\n",
       "      <td>1</td>\n",
       "      <td>24 Ore</td>\n",
       "    </tr>\n",
       "    <tr>\n",
       "      <th>1</th>\n",
       "      <td>30-12-14</td>\n",
       "      <td>18:40:36</td>\n",
       "      <td>Tomba Giulietta</td>\n",
       "      <td>40</td>\n",
       "      <td>049B26523F3880</td>\n",
       "      <td>30-12-14</td>\n",
       "      <td>in</td>\n",
       "      <td>1</td>\n",
       "      <td>24 Ore</td>\n",
       "    </tr>\n",
       "    <tr>\n",
       "      <th>2</th>\n",
       "      <td>30-12-14</td>\n",
       "      <td>18:29:31</td>\n",
       "      <td>Casa Giulietta</td>\n",
       "      <td>27</td>\n",
       "      <td>04C316523F3884</td>\n",
       "      <td>30-12-14</td>\n",
       "      <td>in</td>\n",
       "      <td>1</td>\n",
       "      <td>72 Ore</td>\n",
       "    </tr>\n",
       "    <tr>\n",
       "      <th>3</th>\n",
       "      <td>30-12-14</td>\n",
       "      <td>18:29:30</td>\n",
       "      <td>Casa Giulietta</td>\n",
       "      <td>27</td>\n",
       "      <td>04C315523F3884</td>\n",
       "      <td>30-12-14</td>\n",
       "      <td>in</td>\n",
       "      <td>1</td>\n",
       "      <td>72 Ore</td>\n",
       "    </tr>\n",
       "    <tr>\n",
       "      <th>4</th>\n",
       "      <td>30-12-14</td>\n",
       "      <td>18:29:15</td>\n",
       "      <td>Casa Giulietta</td>\n",
       "      <td>27</td>\n",
       "      <td>045955523F3880</td>\n",
       "      <td>30-12-14</td>\n",
       "      <td>in</td>\n",
       "      <td>1</td>\n",
       "      <td>24 Ore</td>\n",
       "    </tr>\n",
       "  </tbody>\n",
       "</table>\n",
       "</div>"
      ],
      "text/plain": [
       "       Date      Time              POI  Device      VrC Serial  \\\n",
       "0  30-12-14  18:40:38  Tomba Giulietta      40  049B31523F3880   \n",
       "1  30-12-14  18:40:36  Tomba Giulietta      40  049B26523F3880   \n",
       "2  30-12-14  18:29:31   Casa Giulietta      27  04C316523F3884   \n",
       "3  30-12-14  18:29:30   Casa Giulietta      27  04C315523F3884   \n",
       "4  30-12-14  18:29:15   Casa Giulietta      27  045955523F3880   \n",
       "\n",
       "  Activation Date In Out  Sale Profile  \n",
       "0        30-12-14     in     1  24 Ore  \n",
       "1        30-12-14     in     1  24 Ore  \n",
       "2        30-12-14     in     1  72 Ore  \n",
       "3        30-12-14     in     1  72 Ore  \n",
       "4        30-12-14     in     1  24 Ore  "
      ]
     },
     "execution_count": 4,
     "metadata": {},
     "output_type": "execute_result"
    }
   ],
   "source": [
    "df2014.head()"
   ]
  },
  {
   "cell_type": "code",
   "execution_count": 5,
   "metadata": {},
   "outputs": [
    {
     "data": {
      "text/html": [
       "<div>\n",
       "<style scoped>\n",
       "    .dataframe tbody tr th:only-of-type {\n",
       "        vertical-align: middle;\n",
       "    }\n",
       "\n",
       "    .dataframe tbody tr th {\n",
       "        vertical-align: top;\n",
       "    }\n",
       "\n",
       "    .dataframe thead th {\n",
       "        text-align: right;\n",
       "    }\n",
       "</style>\n",
       "<table border=\"1\" class=\"dataframe\">\n",
       "  <thead>\n",
       "    <tr style=\"text-align: right;\">\n",
       "      <th></th>\n",
       "      <th>Date</th>\n",
       "      <th>Time</th>\n",
       "      <th>POI</th>\n",
       "      <th>Device</th>\n",
       "      <th>VrC Serial</th>\n",
       "      <th>Activation Date</th>\n",
       "      <th>In Out</th>\n",
       "      <th>Sale</th>\n",
       "      <th>Profile</th>\n",
       "    </tr>\n",
       "  </thead>\n",
       "  <tbody>\n",
       "    <tr>\n",
       "      <th>0</th>\n",
       "      <td>30-12-15</td>\n",
       "      <td>18:53:37</td>\n",
       "      <td>Tomba Giulietta</td>\n",
       "      <td>40</td>\n",
       "      <td>0476EFBA7B3F80</td>\n",
       "      <td>30-12-15</td>\n",
       "      <td>in</td>\n",
       "      <td>1</td>\n",
       "      <td>vrcard2-24</td>\n",
       "    </tr>\n",
       "    <tr>\n",
       "      <th>1</th>\n",
       "      <td>30-12-15</td>\n",
       "      <td>18:53:32</td>\n",
       "      <td>Tomba Giulietta</td>\n",
       "      <td>40</td>\n",
       "      <td>04D804C27B3F84</td>\n",
       "      <td>30-12-15</td>\n",
       "      <td>in</td>\n",
       "      <td>1</td>\n",
       "      <td>vrcard2-24</td>\n",
       "    </tr>\n",
       "    <tr>\n",
       "      <th>2</th>\n",
       "      <td>30-12-15</td>\n",
       "      <td>18:53:00</td>\n",
       "      <td>Casa Giulietta</td>\n",
       "      <td>28</td>\n",
       "      <td>041F4FC27B3F81</td>\n",
       "      <td>30-12-15</td>\n",
       "      <td>in</td>\n",
       "      <td>1</td>\n",
       "      <td>vrcard2-24</td>\n",
       "    </tr>\n",
       "    <tr>\n",
       "      <th>3</th>\n",
       "      <td>30-12-15</td>\n",
       "      <td>18:52:59</td>\n",
       "      <td>Tomba Giulietta</td>\n",
       "      <td>40</td>\n",
       "      <td>047298BA7B3F80</td>\n",
       "      <td>30-12-15</td>\n",
       "      <td>in</td>\n",
       "      <td>1</td>\n",
       "      <td>vrcard2-24</td>\n",
       "    </tr>\n",
       "    <tr>\n",
       "      <th>4</th>\n",
       "      <td>30-12-15</td>\n",
       "      <td>18:52:58</td>\n",
       "      <td>Tomba Giulietta</td>\n",
       "      <td>40</td>\n",
       "      <td>046E16BA7B3F84</td>\n",
       "      <td>30-12-15</td>\n",
       "      <td>in</td>\n",
       "      <td>1</td>\n",
       "      <td>vrcard2-24</td>\n",
       "    </tr>\n",
       "  </tbody>\n",
       "</table>\n",
       "</div>"
      ],
      "text/plain": [
       "       Date      Time              POI  Device      VrC Serial  \\\n",
       "0  30-12-15  18:53:37  Tomba Giulietta      40  0476EFBA7B3F80   \n",
       "1  30-12-15  18:53:32  Tomba Giulietta      40  04D804C27B3F84   \n",
       "2  30-12-15  18:53:00   Casa Giulietta      28  041F4FC27B3F81   \n",
       "3  30-12-15  18:52:59  Tomba Giulietta      40  047298BA7B3F80   \n",
       "4  30-12-15  18:52:58  Tomba Giulietta      40  046E16BA7B3F84   \n",
       "\n",
       "  Activation Date In Out  Sale     Profile  \n",
       "0        30-12-15     in     1  vrcard2-24  \n",
       "1        30-12-15     in     1  vrcard2-24  \n",
       "2        30-12-15     in     1  vrcard2-24  \n",
       "3        30-12-15     in     1  vrcard2-24  \n",
       "4        30-12-15     in     1  vrcard2-24  "
      ]
     },
     "execution_count": 5,
     "metadata": {},
     "output_type": "execute_result"
    }
   ],
   "source": [
    "df2015.head()"
   ]
  },
  {
   "cell_type": "code",
   "execution_count": 6,
   "metadata": {},
   "outputs": [
    {
     "data": {
      "text/html": [
       "<div>\n",
       "<style scoped>\n",
       "    .dataframe tbody tr th:only-of-type {\n",
       "        vertical-align: middle;\n",
       "    }\n",
       "\n",
       "    .dataframe tbody tr th {\n",
       "        vertical-align: top;\n",
       "    }\n",
       "\n",
       "    .dataframe thead th {\n",
       "        text-align: right;\n",
       "    }\n",
       "</style>\n",
       "<table border=\"1\" class=\"dataframe\">\n",
       "  <thead>\n",
       "    <tr style=\"text-align: right;\">\n",
       "      <th></th>\n",
       "      <th>Date</th>\n",
       "      <th>Time</th>\n",
       "      <th>POI</th>\n",
       "      <th>Device</th>\n",
       "      <th>VrC Serial</th>\n",
       "      <th>Activation Date</th>\n",
       "      <th>In Out</th>\n",
       "      <th>Sale</th>\n",
       "      <th>Profile</th>\n",
       "    </tr>\n",
       "  </thead>\n",
       "  <tbody>\n",
       "    <tr>\n",
       "      <th>0</th>\n",
       "      <td>30-12-16</td>\n",
       "      <td>18:53:37</td>\n",
       "      <td>Casa Giulietta</td>\n",
       "      <td>28</td>\n",
       "      <td>04A3043A9C4C84</td>\n",
       "      <td>30-12-16</td>\n",
       "      <td>in</td>\n",
       "      <td>1</td>\n",
       "      <td>vrcard2-24</td>\n",
       "    </tr>\n",
       "    <tr>\n",
       "      <th>1</th>\n",
       "      <td>30-12-16</td>\n",
       "      <td>18:53:36</td>\n",
       "      <td>Casa Giulietta</td>\n",
       "      <td>28</td>\n",
       "      <td>04F2013A9C4C84</td>\n",
       "      <td>30-12-16</td>\n",
       "      <td>in</td>\n",
       "      <td>1</td>\n",
       "      <td>vrcard2-24</td>\n",
       "    </tr>\n",
       "    <tr>\n",
       "      <th>2</th>\n",
       "      <td>30-12-16</td>\n",
       "      <td>18:44:26</td>\n",
       "      <td>Casa Giulietta</td>\n",
       "      <td>28</td>\n",
       "      <td>0474C6429C4C80</td>\n",
       "      <td>30-12-16</td>\n",
       "      <td>in</td>\n",
       "      <td>1</td>\n",
       "      <td>vrcard2-24</td>\n",
       "    </tr>\n",
       "    <tr>\n",
       "      <th>3</th>\n",
       "      <td>30-12-16</td>\n",
       "      <td>18:44:23</td>\n",
       "      <td>Casa Giulietta</td>\n",
       "      <td>28</td>\n",
       "      <td>0495743A9C4C80</td>\n",
       "      <td>30-12-16</td>\n",
       "      <td>in</td>\n",
       "      <td>1</td>\n",
       "      <td>vrcard2-24</td>\n",
       "    </tr>\n",
       "    <tr>\n",
       "      <th>4</th>\n",
       "      <td>30-12-16</td>\n",
       "      <td>18:44:19</td>\n",
       "      <td>Casa Giulietta</td>\n",
       "      <td>28</td>\n",
       "      <td>0472C7429C4C80</td>\n",
       "      <td>30-12-16</td>\n",
       "      <td>in</td>\n",
       "      <td>1</td>\n",
       "      <td>vrcard2-24</td>\n",
       "    </tr>\n",
       "  </tbody>\n",
       "</table>\n",
       "</div>"
      ],
      "text/plain": [
       "       Date      Time             POI  Device      VrC Serial Activation Date  \\\n",
       "0  30-12-16  18:53:37  Casa Giulietta      28  04A3043A9C4C84        30-12-16   \n",
       "1  30-12-16  18:53:36  Casa Giulietta      28  04F2013A9C4C84        30-12-16   \n",
       "2  30-12-16  18:44:26  Casa Giulietta      28  0474C6429C4C80        30-12-16   \n",
       "3  30-12-16  18:44:23  Casa Giulietta      28  0495743A9C4C80        30-12-16   \n",
       "4  30-12-16  18:44:19  Casa Giulietta      28  0472C7429C4C80        30-12-16   \n",
       "\n",
       "  In Out  Sale     Profile  \n",
       "0     in     1  vrcard2-24  \n",
       "1     in     1  vrcard2-24  \n",
       "2     in     1  vrcard2-24  \n",
       "3     in     1  vrcard2-24  \n",
       "4     in     1  vrcard2-24  "
      ]
     },
     "execution_count": 6,
     "metadata": {},
     "output_type": "execute_result"
    }
   ],
   "source": [
    "df2016.head()"
   ]
  },
  {
   "cell_type": "code",
   "execution_count": 7,
   "metadata": {},
   "outputs": [
    {
     "data": {
      "text/html": [
       "<div>\n",
       "<style scoped>\n",
       "    .dataframe tbody tr th:only-of-type {\n",
       "        vertical-align: middle;\n",
       "    }\n",
       "\n",
       "    .dataframe tbody tr th {\n",
       "        vertical-align: top;\n",
       "    }\n",
       "\n",
       "    .dataframe thead th {\n",
       "        text-align: right;\n",
       "    }\n",
       "</style>\n",
       "<table border=\"1\" class=\"dataframe\">\n",
       "  <thead>\n",
       "    <tr style=\"text-align: right;\">\n",
       "      <th></th>\n",
       "      <th>Date</th>\n",
       "      <th>Time</th>\n",
       "      <th>POI</th>\n",
       "      <th>Device</th>\n",
       "      <th>VrC Serial</th>\n",
       "      <th>Activation Date</th>\n",
       "      <th>In Out</th>\n",
       "      <th>Sale</th>\n",
       "      <th>Profile</th>\n",
       "    </tr>\n",
       "  </thead>\n",
       "  <tbody>\n",
       "    <tr>\n",
       "      <th>0</th>\n",
       "      <td>30-12-17</td>\n",
       "      <td>18:34:17</td>\n",
       "      <td>Arena</td>\n",
       "      <td>25</td>\n",
       "      <td>04EBBE4A9C4C80</td>\n",
       "      <td>30-12-17</td>\n",
       "      <td>in</td>\n",
       "      <td>1</td>\n",
       "      <td>vrcard2-24</td>\n",
       "    </tr>\n",
       "    <tr>\n",
       "      <th>1</th>\n",
       "      <td>30-12-17</td>\n",
       "      <td>18:34:15</td>\n",
       "      <td>Arena</td>\n",
       "      <td>25</td>\n",
       "      <td>04EABE4A9C4C80</td>\n",
       "      <td>30-12-17</td>\n",
       "      <td>in</td>\n",
       "      <td>1</td>\n",
       "      <td>vrcard2-24</td>\n",
       "    </tr>\n",
       "    <tr>\n",
       "      <th>2</th>\n",
       "      <td>30-12-17</td>\n",
       "      <td>18:33:55</td>\n",
       "      <td>Casa Giulietta</td>\n",
       "      <td>28</td>\n",
       "      <td>0494C74A9C4C80</td>\n",
       "      <td>30-12-17</td>\n",
       "      <td>in</td>\n",
       "      <td>1</td>\n",
       "      <td>vrcard2-24</td>\n",
       "    </tr>\n",
       "    <tr>\n",
       "      <th>3</th>\n",
       "      <td>30-12-17</td>\n",
       "      <td>18:33:52</td>\n",
       "      <td>Casa Giulietta</td>\n",
       "      <td>28</td>\n",
       "      <td>04B6C74A9C4C80</td>\n",
       "      <td>30-12-17</td>\n",
       "      <td>in</td>\n",
       "      <td>1</td>\n",
       "      <td>vrcard2-24</td>\n",
       "    </tr>\n",
       "    <tr>\n",
       "      <th>4</th>\n",
       "      <td>30-12-17</td>\n",
       "      <td>18:33:15</td>\n",
       "      <td>Arena</td>\n",
       "      <td>25</td>\n",
       "      <td>04BDBD4A9C4C80</td>\n",
       "      <td>30-12-17</td>\n",
       "      <td>in</td>\n",
       "      <td>1</td>\n",
       "      <td>vrcard2-24</td>\n",
       "    </tr>\n",
       "  </tbody>\n",
       "</table>\n",
       "</div>"
      ],
      "text/plain": [
       "       Date      Time             POI  Device      VrC Serial Activation Date  \\\n",
       "0  30-12-17  18:34:17           Arena      25  04EBBE4A9C4C80        30-12-17   \n",
       "1  30-12-17  18:34:15           Arena      25  04EABE4A9C4C80        30-12-17   \n",
       "2  30-12-17  18:33:55  Casa Giulietta      28  0494C74A9C4C80        30-12-17   \n",
       "3  30-12-17  18:33:52  Casa Giulietta      28  04B6C74A9C4C80        30-12-17   \n",
       "4  30-12-17  18:33:15           Arena      25  04BDBD4A9C4C80        30-12-17   \n",
       "\n",
       "  In Out  Sale     Profile  \n",
       "0     in     1  vrcard2-24  \n",
       "1     in     1  vrcard2-24  \n",
       "2     in     1  vrcard2-24  \n",
       "3     in     1  vrcard2-24  \n",
       "4     in     1  vrcard2-24  "
      ]
     },
     "execution_count": 7,
     "metadata": {},
     "output_type": "execute_result"
    }
   ],
   "source": [
    "df2017.head()"
   ]
  },
  {
   "cell_type": "code",
   "execution_count": 8,
   "metadata": {
    "scrolled": true
   },
   "outputs": [
    {
     "data": {
      "text/html": [
       "<div>\n",
       "<style scoped>\n",
       "    .dataframe tbody tr th:only-of-type {\n",
       "        vertical-align: middle;\n",
       "    }\n",
       "\n",
       "    .dataframe tbody tr th {\n",
       "        vertical-align: top;\n",
       "    }\n",
       "\n",
       "    .dataframe thead th {\n",
       "        text-align: right;\n",
       "    }\n",
       "</style>\n",
       "<table border=\"1\" class=\"dataframe\">\n",
       "  <thead>\n",
       "    <tr style=\"text-align: right;\">\n",
       "      <th></th>\n",
       "      <th>Date</th>\n",
       "      <th>Time</th>\n",
       "      <th>POI</th>\n",
       "      <th>Device</th>\n",
       "      <th>VrC Serial</th>\n",
       "      <th>Activation Date</th>\n",
       "      <th>In Out</th>\n",
       "      <th>Sale</th>\n",
       "      <th>Profile</th>\n",
       "    </tr>\n",
       "  </thead>\n",
       "  <tbody>\n",
       "    <tr>\n",
       "      <th>0</th>\n",
       "      <td>30-12-18</td>\n",
       "      <td>18:32:51</td>\n",
       "      <td>Casa Giulietta</td>\n",
       "      <td>28</td>\n",
       "      <td>04AB1DE2185084</td>\n",
       "      <td>30-12-18</td>\n",
       "      <td>in</td>\n",
       "      <td>1</td>\n",
       "      <td>vrcard-24-2019</td>\n",
       "    </tr>\n",
       "    <tr>\n",
       "      <th>1</th>\n",
       "      <td>30-12-18</td>\n",
       "      <td>18:32:49</td>\n",
       "      <td>Casa Giulietta</td>\n",
       "      <td>28</td>\n",
       "      <td>04AF94E2185080</td>\n",
       "      <td>30-12-18</td>\n",
       "      <td>in</td>\n",
       "      <td>1</td>\n",
       "      <td>vrcard-24-2019</td>\n",
       "    </tr>\n",
       "    <tr>\n",
       "      <th>2</th>\n",
       "      <td>30-12-18</td>\n",
       "      <td>18:32:46</td>\n",
       "      <td>Casa Giulietta</td>\n",
       "      <td>28</td>\n",
       "      <td>04ABB9E2185080</td>\n",
       "      <td>30-12-18</td>\n",
       "      <td>in</td>\n",
       "      <td>1</td>\n",
       "      <td>vrcard-24-2019</td>\n",
       "    </tr>\n",
       "    <tr>\n",
       "      <th>3</th>\n",
       "      <td>30-12-18</td>\n",
       "      <td>18:32:44</td>\n",
       "      <td>Casa Giulietta</td>\n",
       "      <td>28</td>\n",
       "      <td>0481ACE2185080</td>\n",
       "      <td>30-12-18</td>\n",
       "      <td>in</td>\n",
       "      <td>1</td>\n",
       "      <td>vrcard-24-2019</td>\n",
       "    </tr>\n",
       "    <tr>\n",
       "      <th>4</th>\n",
       "      <td>30-12-18</td>\n",
       "      <td>18:32:25</td>\n",
       "      <td>Castelvecchio</td>\n",
       "      <td>35</td>\n",
       "      <td>045DD4E2185080</td>\n",
       "      <td>30-12-18</td>\n",
       "      <td>in</td>\n",
       "      <td>1</td>\n",
       "      <td>vrcard-48-2019</td>\n",
       "    </tr>\n",
       "  </tbody>\n",
       "</table>\n",
       "</div>"
      ],
      "text/plain": [
       "       Date      Time             POI  Device      VrC Serial Activation Date  \\\n",
       "0  30-12-18  18:32:51  Casa Giulietta      28  04AB1DE2185084        30-12-18   \n",
       "1  30-12-18  18:32:49  Casa Giulietta      28  04AF94E2185080        30-12-18   \n",
       "2  30-12-18  18:32:46  Casa Giulietta      28  04ABB9E2185080        30-12-18   \n",
       "3  30-12-18  18:32:44  Casa Giulietta      28  0481ACE2185080        30-12-18   \n",
       "4  30-12-18  18:32:25   Castelvecchio      35  045DD4E2185080        30-12-18   \n",
       "\n",
       "  In Out  Sale         Profile  \n",
       "0     in     1  vrcard-24-2019  \n",
       "1     in     1  vrcard-24-2019  \n",
       "2     in     1  vrcard-24-2019  \n",
       "3     in     1  vrcard-24-2019  \n",
       "4     in     1  vrcard-48-2019  "
      ]
     },
     "execution_count": 8,
     "metadata": {},
     "output_type": "execute_result"
    }
   ],
   "source": [
    "df2018.head()"
   ]
  },
  {
   "cell_type": "code",
   "execution_count": 9,
   "metadata": {},
   "outputs": [
    {
     "data": {
      "text/html": [
       "<div>\n",
       "<style scoped>\n",
       "    .dataframe tbody tr th:only-of-type {\n",
       "        vertical-align: middle;\n",
       "    }\n",
       "\n",
       "    .dataframe tbody tr th {\n",
       "        vertical-align: top;\n",
       "    }\n",
       "\n",
       "    .dataframe thead th {\n",
       "        text-align: right;\n",
       "    }\n",
       "</style>\n",
       "<table border=\"1\" class=\"dataframe\">\n",
       "  <thead>\n",
       "    <tr style=\"text-align: right;\">\n",
       "      <th></th>\n",
       "      <th>Date</th>\n",
       "      <th>Time</th>\n",
       "      <th>POI</th>\n",
       "      <th>Device</th>\n",
       "      <th>VrC Serial</th>\n",
       "      <th>Activation Date</th>\n",
       "      <th>In Out</th>\n",
       "      <th>Sale</th>\n",
       "      <th>Profile</th>\n",
       "    </tr>\n",
       "  </thead>\n",
       "  <tbody>\n",
       "    <tr>\n",
       "      <th>0</th>\n",
       "      <td>30-12-19</td>\n",
       "      <td>18:32:26</td>\n",
       "      <td>Castelvecchio</td>\n",
       "      <td>35</td>\n",
       "      <td>04FBA2E2185080</td>\n",
       "      <td>30-12-19</td>\n",
       "      <td>in</td>\n",
       "      <td>1</td>\n",
       "      <td>vrcard-48-2019</td>\n",
       "    </tr>\n",
       "    <tr>\n",
       "      <th>1</th>\n",
       "      <td>30-12-19</td>\n",
       "      <td>18:32:21</td>\n",
       "      <td>Castelvecchio</td>\n",
       "      <td>35</td>\n",
       "      <td>040723E2185081</td>\n",
       "      <td>30-12-19</td>\n",
       "      <td>in</td>\n",
       "      <td>1</td>\n",
       "      <td>vrcard-48-2019</td>\n",
       "    </tr>\n",
       "    <tr>\n",
       "      <th>2</th>\n",
       "      <td>30-12-19</td>\n",
       "      <td>18:29:10</td>\n",
       "      <td>Castelvecchio</td>\n",
       "      <td>35</td>\n",
       "      <td>04E52EF2185080</td>\n",
       "      <td>30-12-19</td>\n",
       "      <td>in</td>\n",
       "      <td>1</td>\n",
       "      <td>vrcard-24-2019</td>\n",
       "    </tr>\n",
       "    <tr>\n",
       "      <th>3</th>\n",
       "      <td>30-12-19</td>\n",
       "      <td>18:29:06</td>\n",
       "      <td>Castelvecchio</td>\n",
       "      <td>35</td>\n",
       "      <td>04E33AF2185084</td>\n",
       "      <td>30-12-19</td>\n",
       "      <td>in</td>\n",
       "      <td>1</td>\n",
       "      <td>vrcard-24-2019</td>\n",
       "    </tr>\n",
       "    <tr>\n",
       "      <th>4</th>\n",
       "      <td>30-12-19</td>\n",
       "      <td>18:26:05</td>\n",
       "      <td>Tomba Giulietta</td>\n",
       "      <td>40</td>\n",
       "      <td>0407B54A216281</td>\n",
       "      <td>30-12-19</td>\n",
       "      <td>in</td>\n",
       "      <td>1</td>\n",
       "      <td>vrcard-48-2019</td>\n",
       "    </tr>\n",
       "  </tbody>\n",
       "</table>\n",
       "</div>"
      ],
      "text/plain": [
       "       Date      Time              POI  Device      VrC Serial  \\\n",
       "0  30-12-19  18:32:26    Castelvecchio      35  04FBA2E2185080   \n",
       "1  30-12-19  18:32:21    Castelvecchio      35  040723E2185081   \n",
       "2  30-12-19  18:29:10    Castelvecchio      35  04E52EF2185080   \n",
       "3  30-12-19  18:29:06    Castelvecchio      35  04E33AF2185084   \n",
       "4  30-12-19  18:26:05  Tomba Giulietta      40  0407B54A216281   \n",
       "\n",
       "  Activation Date In Out  Sale         Profile  \n",
       "0        30-12-19     in     1  vrcard-48-2019  \n",
       "1        30-12-19     in     1  vrcard-48-2019  \n",
       "2        30-12-19     in     1  vrcard-24-2019  \n",
       "3        30-12-19     in     1  vrcard-24-2019  \n",
       "4        30-12-19     in     1  vrcard-48-2019  "
      ]
     },
     "execution_count": 9,
     "metadata": {},
     "output_type": "execute_result"
    }
   ],
   "source": [
    "df2019.head()"
   ]
  },
  {
   "cell_type": "code",
   "execution_count": 10,
   "metadata": {},
   "outputs": [
    {
     "data": {
      "text/html": [
       "<div>\n",
       "<style scoped>\n",
       "    .dataframe tbody tr th:only-of-type {\n",
       "        vertical-align: middle;\n",
       "    }\n",
       "\n",
       "    .dataframe tbody tr th {\n",
       "        vertical-align: top;\n",
       "    }\n",
       "\n",
       "    .dataframe thead th {\n",
       "        text-align: right;\n",
       "    }\n",
       "</style>\n",
       "<table border=\"1\" class=\"dataframe\">\n",
       "  <thead>\n",
       "    <tr style=\"text-align: right;\">\n",
       "      <th></th>\n",
       "      <th>Date</th>\n",
       "      <th>Time</th>\n",
       "      <th>POI</th>\n",
       "      <th>Device</th>\n",
       "      <th>VrC Serial</th>\n",
       "      <th>Activation Date</th>\n",
       "      <th>In Out</th>\n",
       "      <th>Sale</th>\n",
       "      <th>Profile</th>\n",
       "    </tr>\n",
       "  </thead>\n",
       "  <tbody>\n",
       "    <tr>\n",
       "      <th>0</th>\n",
       "      <td>03-11-20</td>\n",
       "      <td>15:25:08</td>\n",
       "      <td>Torre Lamberti</td>\n",
       "      <td>41</td>\n",
       "      <td>0403A6F2185081</td>\n",
       "      <td>03-11-20</td>\n",
       "      <td>in</td>\n",
       "      <td>1</td>\n",
       "      <td>vrcard-24-2019</td>\n",
       "    </tr>\n",
       "    <tr>\n",
       "      <th>1</th>\n",
       "      <td>03-11-20</td>\n",
       "      <td>15:11:50</td>\n",
       "      <td>Casa Giulietta</td>\n",
       "      <td>28</td>\n",
       "      <td>0403A6F2185081</td>\n",
       "      <td>03-11-20</td>\n",
       "      <td>in</td>\n",
       "      <td>1</td>\n",
       "      <td>vrcard-24-2019</td>\n",
       "    </tr>\n",
       "    <tr>\n",
       "      <th>2</th>\n",
       "      <td>02-11-20</td>\n",
       "      <td>11:50:37</td>\n",
       "      <td>San Zeno</td>\n",
       "      <td>26</td>\n",
       "      <td>04EBA64A216280</td>\n",
       "      <td>01-11-20</td>\n",
       "      <td>in</td>\n",
       "      <td>1</td>\n",
       "      <td>vrcard-48-2019</td>\n",
       "    </tr>\n",
       "    <tr>\n",
       "      <th>3</th>\n",
       "      <td>01-11-20</td>\n",
       "      <td>17:19:51</td>\n",
       "      <td>Duomo</td>\n",
       "      <td>23</td>\n",
       "      <td>04EBA64A216280</td>\n",
       "      <td>01-11-20</td>\n",
       "      <td>in</td>\n",
       "      <td>1</td>\n",
       "      <td>vrcard-48-2019</td>\n",
       "    </tr>\n",
       "    <tr>\n",
       "      <th>4</th>\n",
       "      <td>01-11-20</td>\n",
       "      <td>17:10:55</td>\n",
       "      <td>San Zeno</td>\n",
       "      <td>26</td>\n",
       "      <td>04E032F2185080</td>\n",
       "      <td>01-11-20</td>\n",
       "      <td>in</td>\n",
       "      <td>1</td>\n",
       "      <td>vrcard-24-2019</td>\n",
       "    </tr>\n",
       "  </tbody>\n",
       "</table>\n",
       "</div>"
      ],
      "text/plain": [
       "       Date      Time             POI  Device      VrC Serial Activation Date  \\\n",
       "0  03-11-20  15:25:08  Torre Lamberti      41  0403A6F2185081        03-11-20   \n",
       "1  03-11-20  15:11:50  Casa Giulietta      28  0403A6F2185081        03-11-20   \n",
       "2  02-11-20  11:50:37        San Zeno      26  04EBA64A216280        01-11-20   \n",
       "3  01-11-20  17:19:51           Duomo      23  04EBA64A216280        01-11-20   \n",
       "4  01-11-20  17:10:55        San Zeno      26  04E032F2185080        01-11-20   \n",
       "\n",
       "  In Out  Sale         Profile  \n",
       "0     in     1  vrcard-24-2019  \n",
       "1     in     1  vrcard-24-2019  \n",
       "2     in     1  vrcard-48-2019  \n",
       "3     in     1  vrcard-48-2019  \n",
       "4     in     1  vrcard-24-2019  "
      ]
     },
     "execution_count": 10,
     "metadata": {},
     "output_type": "execute_result"
    }
   ],
   "source": [
    "df2020.head()"
   ]
  },
  {
   "cell_type": "markdown",
   "metadata": {},
   "source": [
    "#### Concatenazione dei dataframe"
   ]
  },
  {
   "cell_type": "code",
   "execution_count": 11,
   "metadata": {},
   "outputs": [],
   "source": [
    "frames = [df2014, df2015, df2016, df2017, df2018, df2019, df2020]\n",
    "\n",
    "dfAllYears = pd.concat(frames)"
   ]
  },
  {
   "cell_type": "code",
   "execution_count": 12,
   "metadata": {},
   "outputs": [
    {
     "data": {
      "text/html": [
       "<div>\n",
       "<style scoped>\n",
       "    .dataframe tbody tr th:only-of-type {\n",
       "        vertical-align: middle;\n",
       "    }\n",
       "\n",
       "    .dataframe tbody tr th {\n",
       "        vertical-align: top;\n",
       "    }\n",
       "\n",
       "    .dataframe thead th {\n",
       "        text-align: right;\n",
       "    }\n",
       "</style>\n",
       "<table border=\"1\" class=\"dataframe\">\n",
       "  <thead>\n",
       "    <tr style=\"text-align: right;\">\n",
       "      <th></th>\n",
       "      <th>Date</th>\n",
       "      <th>Time</th>\n",
       "      <th>POI</th>\n",
       "      <th>Device</th>\n",
       "      <th>VrC Serial</th>\n",
       "      <th>Activation Date</th>\n",
       "      <th>In Out</th>\n",
       "      <th>Sale</th>\n",
       "      <th>Profile</th>\n",
       "    </tr>\n",
       "  </thead>\n",
       "  <tbody>\n",
       "    <tr>\n",
       "      <th>0</th>\n",
       "      <td>30-12-14</td>\n",
       "      <td>18:40:38</td>\n",
       "      <td>Tomba Giulietta</td>\n",
       "      <td>40</td>\n",
       "      <td>049B31523F3880</td>\n",
       "      <td>30-12-14</td>\n",
       "      <td>in</td>\n",
       "      <td>1</td>\n",
       "      <td>24 Ore</td>\n",
       "    </tr>\n",
       "    <tr>\n",
       "      <th>1</th>\n",
       "      <td>30-12-14</td>\n",
       "      <td>18:40:36</td>\n",
       "      <td>Tomba Giulietta</td>\n",
       "      <td>40</td>\n",
       "      <td>049B26523F3880</td>\n",
       "      <td>30-12-14</td>\n",
       "      <td>in</td>\n",
       "      <td>1</td>\n",
       "      <td>24 Ore</td>\n",
       "    </tr>\n",
       "    <tr>\n",
       "      <th>2</th>\n",
       "      <td>30-12-14</td>\n",
       "      <td>18:29:31</td>\n",
       "      <td>Casa Giulietta</td>\n",
       "      <td>27</td>\n",
       "      <td>04C316523F3884</td>\n",
       "      <td>30-12-14</td>\n",
       "      <td>in</td>\n",
       "      <td>1</td>\n",
       "      <td>72 Ore</td>\n",
       "    </tr>\n",
       "    <tr>\n",
       "      <th>3</th>\n",
       "      <td>30-12-14</td>\n",
       "      <td>18:29:30</td>\n",
       "      <td>Casa Giulietta</td>\n",
       "      <td>27</td>\n",
       "      <td>04C315523F3884</td>\n",
       "      <td>30-12-14</td>\n",
       "      <td>in</td>\n",
       "      <td>1</td>\n",
       "      <td>72 Ore</td>\n",
       "    </tr>\n",
       "    <tr>\n",
       "      <th>4</th>\n",
       "      <td>30-12-14</td>\n",
       "      <td>18:29:15</td>\n",
       "      <td>Casa Giulietta</td>\n",
       "      <td>27</td>\n",
       "      <td>045955523F3880</td>\n",
       "      <td>30-12-14</td>\n",
       "      <td>in</td>\n",
       "      <td>1</td>\n",
       "      <td>24 Ore</td>\n",
       "    </tr>\n",
       "    <tr>\n",
       "      <th>...</th>\n",
       "      <td>...</td>\n",
       "      <td>...</td>\n",
       "      <td>...</td>\n",
       "      <td>...</td>\n",
       "      <td>...</td>\n",
       "      <td>...</td>\n",
       "      <td>...</td>\n",
       "      <td>...</td>\n",
       "      <td>...</td>\n",
       "    </tr>\n",
       "    <tr>\n",
       "      <th>38289</th>\n",
       "      <td>01-01-20</td>\n",
       "      <td>10:56:07</td>\n",
       "      <td>Giardino Giusti</td>\n",
       "      <td>43</td>\n",
       "      <td>0440ADE2185081</td>\n",
       "      <td>31-12-19</td>\n",
       "      <td>in</td>\n",
       "      <td>1</td>\n",
       "      <td>vrcard-48-2019</td>\n",
       "    </tr>\n",
       "    <tr>\n",
       "      <th>38290</th>\n",
       "      <td>01-01-20</td>\n",
       "      <td>10:55:40</td>\n",
       "      <td>Giardino Giusti</td>\n",
       "      <td>43</td>\n",
       "      <td>04161EE2185081</td>\n",
       "      <td>31-12-19</td>\n",
       "      <td>in</td>\n",
       "      <td>1</td>\n",
       "      <td>vrcard-48-2019</td>\n",
       "    </tr>\n",
       "    <tr>\n",
       "      <th>38291</th>\n",
       "      <td>01-01-20</td>\n",
       "      <td>10:55:27</td>\n",
       "      <td>Giardino Giusti</td>\n",
       "      <td>43</td>\n",
       "      <td>044452E2185081</td>\n",
       "      <td>31-12-19</td>\n",
       "      <td>in</td>\n",
       "      <td>1</td>\n",
       "      <td>vrcard-48-2019</td>\n",
       "    </tr>\n",
       "    <tr>\n",
       "      <th>38292</th>\n",
       "      <td>01-01-20</td>\n",
       "      <td>10:22:41</td>\n",
       "      <td>Giardino Giusti</td>\n",
       "      <td>43</td>\n",
       "      <td>043412E2185085</td>\n",
       "      <td>31-12-19</td>\n",
       "      <td>in</td>\n",
       "      <td>1</td>\n",
       "      <td>vrcard-48-2019</td>\n",
       "    </tr>\n",
       "    <tr>\n",
       "      <th>38293</th>\n",
       "      <td>01-01-20</td>\n",
       "      <td>10:22:38</td>\n",
       "      <td>Giardino Giusti</td>\n",
       "      <td>43</td>\n",
       "      <td>04106AE2185081</td>\n",
       "      <td>31-12-19</td>\n",
       "      <td>in</td>\n",
       "      <td>1</td>\n",
       "      <td>vrcard-48-2019</td>\n",
       "    </tr>\n",
       "  </tbody>\n",
       "</table>\n",
       "<p>2428147 rows × 9 columns</p>\n",
       "</div>"
      ],
      "text/plain": [
       "           Date      Time              POI  Device      VrC Serial  \\\n",
       "0      30-12-14  18:40:38  Tomba Giulietta      40  049B31523F3880   \n",
       "1      30-12-14  18:40:36  Tomba Giulietta      40  049B26523F3880   \n",
       "2      30-12-14  18:29:31   Casa Giulietta      27  04C316523F3884   \n",
       "3      30-12-14  18:29:30   Casa Giulietta      27  04C315523F3884   \n",
       "4      30-12-14  18:29:15   Casa Giulietta      27  045955523F3880   \n",
       "...         ...       ...              ...     ...             ...   \n",
       "38289  01-01-20  10:56:07  Giardino Giusti      43  0440ADE2185081   \n",
       "38290  01-01-20  10:55:40  Giardino Giusti      43  04161EE2185081   \n",
       "38291  01-01-20  10:55:27  Giardino Giusti      43  044452E2185081   \n",
       "38292  01-01-20  10:22:41  Giardino Giusti      43  043412E2185085   \n",
       "38293  01-01-20  10:22:38  Giardino Giusti      43  04106AE2185081   \n",
       "\n",
       "      Activation Date In Out  Sale         Profile  \n",
       "0            30-12-14     in     1          24 Ore  \n",
       "1            30-12-14     in     1          24 Ore  \n",
       "2            30-12-14     in     1          72 Ore  \n",
       "3            30-12-14     in     1          72 Ore  \n",
       "4            30-12-14     in     1          24 Ore  \n",
       "...               ...    ...   ...             ...  \n",
       "38289        31-12-19     in     1  vrcard-48-2019  \n",
       "38290        31-12-19     in     1  vrcard-48-2019  \n",
       "38291        31-12-19     in     1  vrcard-48-2019  \n",
       "38292        31-12-19     in     1  vrcard-48-2019  \n",
       "38293        31-12-19     in     1  vrcard-48-2019  \n",
       "\n",
       "[2428147 rows x 9 columns]"
      ]
     },
     "execution_count": 12,
     "metadata": {},
     "output_type": "execute_result"
    }
   ],
   "source": [
    "dfAllYears"
   ]
  },
  {
   "cell_type": "markdown",
   "metadata": {},
   "source": [
    "#### La colonna `In Out` è valorizzata da solo valore \"in\"?"
   ]
  },
  {
   "cell_type": "code",
   "execution_count": 13,
   "metadata": {},
   "outputs": [
    {
     "data": {
      "text/plain": [
       "['in']"
      ]
     },
     "execution_count": 13,
     "metadata": {},
     "output_type": "execute_result"
    }
   ],
   "source": [
    "valuesOf(dfAllYears, \"In Out\")"
   ]
  },
  {
   "cell_type": "markdown",
   "metadata": {},
   "source": [
    "*Risposta*: Sì. Notiamo che tutti i valori sono 'in'."
   ]
  },
  {
   "cell_type": "markdown",
   "metadata": {},
   "source": [
    "#### La colonna `Sale` è valorizzata da solo valore 1?"
   ]
  },
  {
   "cell_type": "code",
   "execution_count": 14,
   "metadata": {},
   "outputs": [
    {
     "data": {
      "text/plain": [
       "[0, 1, 2]"
      ]
     },
     "execution_count": 14,
     "metadata": {},
     "output_type": "execute_result"
    }
   ],
   "source": [
    "valuesOf(dfAllYears, \"Sale\")"
   ]
  },
  {
   "cell_type": "markdown",
   "metadata": {},
   "source": [
    "*Risposta*: No. Notiamo che la colonna è valorizzata con 0, 1 e 2. Dovrebbe rappresentare la tipologia di sconto applicato."
   ]
  },
  {
   "cell_type": "markdown",
   "metadata": {},
   "source": [
    "#### La colonna `POI` come è valorizzata?"
   ]
  },
  {
   "cell_type": "code",
   "execution_count": 15,
   "metadata": {},
   "outputs": [
    {
     "data": {
      "text/plain": [
       "['AMO',\n",
       " 'Arena',\n",
       " 'Casa Giulietta',\n",
       " 'Castelvecchio',\n",
       " 'Centro Fotografia',\n",
       " 'Duomo',\n",
       " 'Giardino Giusti',\n",
       " 'Museo Africano',\n",
       " 'Museo Conte',\n",
       " 'Museo Lapidario',\n",
       " 'Museo Miniscalchi',\n",
       " 'Museo Radio',\n",
       " 'Museo Storia',\n",
       " 'Palazzo della Ragione',\n",
       " 'San Fermo',\n",
       " 'San Zeno',\n",
       " 'Santa Anastasia',\n",
       " 'Sighseeing',\n",
       " 'Teatro Romano',\n",
       " 'Tomba Giulietta',\n",
       " 'Torre Lamberti',\n",
       " 'Verona Tour']"
      ]
     },
     "execution_count": 15,
     "metadata": {},
     "output_type": "execute_result"
    }
   ],
   "source": [
    "valuesOf(dfAllYears, \"POI\")"
   ]
  },
  {
   "cell_type": "markdown",
   "metadata": {},
   "source": [
    "#### La colonna `Profile` come è valorizzata?"
   ]
  },
  {
   "cell_type": "code",
   "execution_count": 16,
   "metadata": {},
   "outputs": [
    {
     "data": {
      "text/plain": [
       "['24 Ore',\n",
       " '72 Ore',\n",
       " 'vrcard-24-2019',\n",
       " 'vrcard-48-2019',\n",
       " 'vrcard2-24',\n",
       " 'vrcard2-48']"
      ]
     },
     "execution_count": 16,
     "metadata": {},
     "output_type": "execute_result"
    }
   ],
   "source": [
    "valuesOf(dfAllYears, \"Profile\")"
   ]
  },
  {
   "cell_type": "markdown",
   "metadata": {},
   "source": [
    "#### Conversione delle colonne `Date` e `Time` in una `Timestamp`"
   ]
  },
  {
   "cell_type": "code",
   "execution_count": 17,
   "metadata": {},
   "outputs": [],
   "source": [
    "# Creazione nuova colonna composta da \"Data Ora\"\n",
    "dfAllYears.insert(loc=0, column='Timestamp', value=dfAllYears[\"Date\"] + \"T\" + dfAllYears[\"Time\"] + \".000Z\")"
   ]
  },
  {
   "cell_type": "code",
   "execution_count": 18,
   "metadata": {},
   "outputs": [
    {
     "name": "stdout",
     "output_type": "stream",
     "text": [
      "<class 'str'> 30-12-14T18:40:38.000Z\n"
     ]
    }
   ],
   "source": [
    "# Verifica del tipo della colonna\n",
    "print(type(dfAllYears[\"Timestamp\"].iloc[0]), dfAllYears[\"Timestamp\"].iloc[0])"
   ]
  },
  {
   "cell_type": "code",
   "execution_count": 19,
   "metadata": {},
   "outputs": [
    {
     "name": "stderr",
     "output_type": "stream",
     "text": [
      "100%|████████████████████████████████████████████████████████████████████| 2428147/2428147 [00:22<00:00, 106369.37it/s]\n"
     ]
    }
   ],
   "source": [
    "timestamps = []\n",
    "for date in tqdm(dfAllYears['Timestamp']):\n",
    "    timestamp = datetime.strptime(date, \"%d-%m-%yT%H:%M:%S.000Z\")\n",
    "    timestamps.append(timestamp)\n",
    "\n",
    "dfAllYears['Timestamp'] = timestamps"
   ]
  },
  {
   "cell_type": "code",
   "execution_count": 20,
   "metadata": {},
   "outputs": [
    {
     "name": "stdout",
     "output_type": "stream",
     "text": [
      "<class 'pandas._libs.tslibs.timestamps.Timestamp'> 2014-12-30 18:40:38\n"
     ]
    }
   ],
   "source": [
    "# Verifica del tipo della colonna\n",
    "print(type(dfAllYears[\"Timestamp\"].iloc[0]), dfAllYears[\"Timestamp\"].iloc[0])"
   ]
  },
  {
   "cell_type": "code",
   "execution_count": 21,
   "metadata": {},
   "outputs": [],
   "source": [
    "# Eliminazione colonne singole Date e Time\n",
    "dfAllYears = dfAllYears.drop(['Date','Time'], 1)"
   ]
  },
  {
   "cell_type": "code",
   "execution_count": 22,
   "metadata": {},
   "outputs": [
    {
     "data": {
      "text/html": [
       "<div>\n",
       "<style scoped>\n",
       "    .dataframe tbody tr th:only-of-type {\n",
       "        vertical-align: middle;\n",
       "    }\n",
       "\n",
       "    .dataframe tbody tr th {\n",
       "        vertical-align: top;\n",
       "    }\n",
       "\n",
       "    .dataframe thead th {\n",
       "        text-align: right;\n",
       "    }\n",
       "</style>\n",
       "<table border=\"1\" class=\"dataframe\">\n",
       "  <thead>\n",
       "    <tr style=\"text-align: right;\">\n",
       "      <th></th>\n",
       "      <th>Timestamp</th>\n",
       "      <th>POI</th>\n",
       "      <th>Device</th>\n",
       "      <th>VrC Serial</th>\n",
       "      <th>Activation Date</th>\n",
       "      <th>In Out</th>\n",
       "      <th>Sale</th>\n",
       "      <th>Profile</th>\n",
       "    </tr>\n",
       "  </thead>\n",
       "  <tbody>\n",
       "    <tr>\n",
       "      <th>0</th>\n",
       "      <td>2014-12-30 18:40:38</td>\n",
       "      <td>Tomba Giulietta</td>\n",
       "      <td>40</td>\n",
       "      <td>049B31523F3880</td>\n",
       "      <td>30-12-14</td>\n",
       "      <td>in</td>\n",
       "      <td>1</td>\n",
       "      <td>24 Ore</td>\n",
       "    </tr>\n",
       "    <tr>\n",
       "      <th>1</th>\n",
       "      <td>2014-12-30 18:40:36</td>\n",
       "      <td>Tomba Giulietta</td>\n",
       "      <td>40</td>\n",
       "      <td>049B26523F3880</td>\n",
       "      <td>30-12-14</td>\n",
       "      <td>in</td>\n",
       "      <td>1</td>\n",
       "      <td>24 Ore</td>\n",
       "    </tr>\n",
       "    <tr>\n",
       "      <th>2</th>\n",
       "      <td>2014-12-30 18:29:31</td>\n",
       "      <td>Casa Giulietta</td>\n",
       "      <td>27</td>\n",
       "      <td>04C316523F3884</td>\n",
       "      <td>30-12-14</td>\n",
       "      <td>in</td>\n",
       "      <td>1</td>\n",
       "      <td>72 Ore</td>\n",
       "    </tr>\n",
       "    <tr>\n",
       "      <th>3</th>\n",
       "      <td>2014-12-30 18:29:30</td>\n",
       "      <td>Casa Giulietta</td>\n",
       "      <td>27</td>\n",
       "      <td>04C315523F3884</td>\n",
       "      <td>30-12-14</td>\n",
       "      <td>in</td>\n",
       "      <td>1</td>\n",
       "      <td>72 Ore</td>\n",
       "    </tr>\n",
       "    <tr>\n",
       "      <th>4</th>\n",
       "      <td>2014-12-30 18:29:15</td>\n",
       "      <td>Casa Giulietta</td>\n",
       "      <td>27</td>\n",
       "      <td>045955523F3880</td>\n",
       "      <td>30-12-14</td>\n",
       "      <td>in</td>\n",
       "      <td>1</td>\n",
       "      <td>24 Ore</td>\n",
       "    </tr>\n",
       "  </tbody>\n",
       "</table>\n",
       "</div>"
      ],
      "text/plain": [
       "            Timestamp              POI  Device      VrC Serial  \\\n",
       "0 2014-12-30 18:40:38  Tomba Giulietta      40  049B31523F3880   \n",
       "1 2014-12-30 18:40:36  Tomba Giulietta      40  049B26523F3880   \n",
       "2 2014-12-30 18:29:31   Casa Giulietta      27  04C316523F3884   \n",
       "3 2014-12-30 18:29:30   Casa Giulietta      27  04C315523F3884   \n",
       "4 2014-12-30 18:29:15   Casa Giulietta      27  045955523F3880   \n",
       "\n",
       "  Activation Date In Out  Sale Profile  \n",
       "0        30-12-14     in     1  24 Ore  \n",
       "1        30-12-14     in     1  24 Ore  \n",
       "2        30-12-14     in     1  72 Ore  \n",
       "3        30-12-14     in     1  72 Ore  \n",
       "4        30-12-14     in     1  24 Ore  "
      ]
     },
     "execution_count": 22,
     "metadata": {},
     "output_type": "execute_result"
    }
   ],
   "source": [
    "dfAllYears.head()"
   ]
  },
  {
   "cell_type": "markdown",
   "metadata": {},
   "source": [
    "#### Conversione della colonna `Activation Date` in formato Date"
   ]
  },
  {
   "cell_type": "code",
   "execution_count": 23,
   "metadata": {},
   "outputs": [
    {
     "name": "stdout",
     "output_type": "stream",
     "text": [
      "<class 'str'> 30-12-14\n"
     ]
    }
   ],
   "source": [
    "# Verifica del tipo della colonna\n",
    "print(type(dfAllYears[\"Activation Date\"].iloc[0]), dfAllYears[\"Activation Date\"].iloc[0])"
   ]
  },
  {
   "cell_type": "code",
   "execution_count": 24,
   "metadata": {},
   "outputs": [],
   "source": [
    "dfAllYears['Activation Date'] = dfAllYears[\"Activation Date\"] + \"T\" + \"00:00:00.000Z\""
   ]
  },
  {
   "cell_type": "code",
   "execution_count": 25,
   "metadata": {},
   "outputs": [
    {
     "name": "stderr",
     "output_type": "stream",
     "text": [
      "100%|████████████████████████████████████████████████████████████████████| 2428147/2428147 [00:22<00:00, 109068.93it/s]\n"
     ]
    }
   ],
   "source": [
    "# Conversione della colonna in un tipo Timestamp\n",
    "timestamps = []\n",
    "for date in tqdm(dfAllYears[\"Activation Date\"]):\n",
    "    timestamp = datetime.strptime(date, \"%d-%m-%yT%H:%M:%S.000Z\")\n",
    "    timestamps.append(timestamp)\n",
    "\n",
    "dfAllYears[\"Activation Date\"] = timestamps"
   ]
  },
  {
   "cell_type": "code",
   "execution_count": 26,
   "metadata": {
    "scrolled": false
   },
   "outputs": [
    {
     "name": "stdout",
     "output_type": "stream",
     "text": [
      "<class 'pandas._libs.tslibs.timestamps.Timestamp'> 2014-12-30 00:00:00\n"
     ]
    }
   ],
   "source": [
    "# Verifica del tipo della colonna\n",
    "print(type(dfAllYears[\"Activation Date\"].iloc[0]), dfAllYears[\"Activation Date\"].iloc[0])"
   ]
  },
  {
   "cell_type": "code",
   "execution_count": 27,
   "metadata": {},
   "outputs": [
    {
     "data": {
      "text/html": [
       "<div>\n",
       "<style scoped>\n",
       "    .dataframe tbody tr th:only-of-type {\n",
       "        vertical-align: middle;\n",
       "    }\n",
       "\n",
       "    .dataframe tbody tr th {\n",
       "        vertical-align: top;\n",
       "    }\n",
       "\n",
       "    .dataframe thead th {\n",
       "        text-align: right;\n",
       "    }\n",
       "</style>\n",
       "<table border=\"1\" class=\"dataframe\">\n",
       "  <thead>\n",
       "    <tr style=\"text-align: right;\">\n",
       "      <th></th>\n",
       "      <th>Timestamp</th>\n",
       "      <th>POI</th>\n",
       "      <th>Device</th>\n",
       "      <th>VrC Serial</th>\n",
       "      <th>Activation Date</th>\n",
       "      <th>In Out</th>\n",
       "      <th>Sale</th>\n",
       "      <th>Profile</th>\n",
       "    </tr>\n",
       "  </thead>\n",
       "  <tbody>\n",
       "    <tr>\n",
       "      <th>0</th>\n",
       "      <td>2014-12-30 18:40:38</td>\n",
       "      <td>Tomba Giulietta</td>\n",
       "      <td>40</td>\n",
       "      <td>049B31523F3880</td>\n",
       "      <td>2014-12-30</td>\n",
       "      <td>in</td>\n",
       "      <td>1</td>\n",
       "      <td>24 Ore</td>\n",
       "    </tr>\n",
       "    <tr>\n",
       "      <th>1</th>\n",
       "      <td>2014-12-30 18:40:36</td>\n",
       "      <td>Tomba Giulietta</td>\n",
       "      <td>40</td>\n",
       "      <td>049B26523F3880</td>\n",
       "      <td>2014-12-30</td>\n",
       "      <td>in</td>\n",
       "      <td>1</td>\n",
       "      <td>24 Ore</td>\n",
       "    </tr>\n",
       "    <tr>\n",
       "      <th>2</th>\n",
       "      <td>2014-12-30 18:29:31</td>\n",
       "      <td>Casa Giulietta</td>\n",
       "      <td>27</td>\n",
       "      <td>04C316523F3884</td>\n",
       "      <td>2014-12-30</td>\n",
       "      <td>in</td>\n",
       "      <td>1</td>\n",
       "      <td>72 Ore</td>\n",
       "    </tr>\n",
       "    <tr>\n",
       "      <th>3</th>\n",
       "      <td>2014-12-30 18:29:30</td>\n",
       "      <td>Casa Giulietta</td>\n",
       "      <td>27</td>\n",
       "      <td>04C315523F3884</td>\n",
       "      <td>2014-12-30</td>\n",
       "      <td>in</td>\n",
       "      <td>1</td>\n",
       "      <td>72 Ore</td>\n",
       "    </tr>\n",
       "    <tr>\n",
       "      <th>4</th>\n",
       "      <td>2014-12-30 18:29:15</td>\n",
       "      <td>Casa Giulietta</td>\n",
       "      <td>27</td>\n",
       "      <td>045955523F3880</td>\n",
       "      <td>2014-12-30</td>\n",
       "      <td>in</td>\n",
       "      <td>1</td>\n",
       "      <td>24 Ore</td>\n",
       "    </tr>\n",
       "  </tbody>\n",
       "</table>\n",
       "</div>"
      ],
      "text/plain": [
       "            Timestamp              POI  Device      VrC Serial  \\\n",
       "0 2014-12-30 18:40:38  Tomba Giulietta      40  049B31523F3880   \n",
       "1 2014-12-30 18:40:36  Tomba Giulietta      40  049B26523F3880   \n",
       "2 2014-12-30 18:29:31   Casa Giulietta      27  04C316523F3884   \n",
       "3 2014-12-30 18:29:30   Casa Giulietta      27  04C315523F3884   \n",
       "4 2014-12-30 18:29:15   Casa Giulietta      27  045955523F3880   \n",
       "\n",
       "  Activation Date In Out  Sale Profile  \n",
       "0      2014-12-30     in     1  24 Ore  \n",
       "1      2014-12-30     in     1  24 Ore  \n",
       "2      2014-12-30     in     1  72 Ore  \n",
       "3      2014-12-30     in     1  72 Ore  \n",
       "4      2014-12-30     in     1  24 Ore  "
      ]
     },
     "execution_count": 27,
     "metadata": {},
     "output_type": "execute_result"
    }
   ],
   "source": [
    "dfAllYears.head()"
   ]
  },
  {
   "cell_type": "markdown",
   "metadata": {},
   "source": [
    "# FASE 2: Schema concettuale e Schema Fisico MongoDB"
   ]
  },
  {
   "cell_type": "markdown",
   "metadata": {},
   "source": [
    "## Schema Concettuale"
   ]
  },
  {
   "cell_type": "markdown",
   "metadata": {},
   "source": [
    "Analizzando la semantica dei dati presenti nei diversi dataset, ne segue che:\n",
    "- Ogni `Swipe` è composta da: `data: timestamp`, `type: swipeType`;\n",
    "- Ogni `VeronaCard` è composta da: `serial (PK): String`, `sale: int`, `activationDate: timestamp`, `profile: profileType`;\n",
    "- Ogni `POI` è composta da: `name (PK): String`;\n",
    "- Ogni `Device` è composta da: `code (PK): int`;\n",
    "\n",
    "Dove:\n",
    "- `swipeType`: code list {`in`, ...}\n",
    "- `profileType`: code list {`24 Ore`, `72 Ore`, `vrcard-2-24`, `vrcard-2-48`, `vrcard-24-2019`, `vrcard-48-2019`, ...}\n",
    "\n",
    "Inoltre:\n",
    "- Ogni `Swipe` coinvolge 1 `VeronaCard` strisciata; \n",
    "- Ogni `VeronaCard` ha effettuato 1 o più `Swipe`;\n",
    "- Ogni `Swipe` è effettuata in 1 `POI`;\n",
    "- Ogni `POI` è luogo di 1 o più `Swipe`;\n",
    "- Ogni `POI` ha associato 1 o più `Device`;\n",
    "- Ogni `Device` è parte di 1 `POI`;\n",
    "\n",
    "**Ne segue il seguente schema concettuale**:\n",
    "![SCHEMA_CONCETTUALE](conceptualSchema.png)"
   ]
  },
  {
   "cell_type": "markdown",
   "metadata": {},
   "source": [
    "## Schema Fisico MongoDB"
   ]
  },
  {
   "cell_type": "markdown",
   "metadata": {},
   "source": [
    "Si vuole mappare lo schema concettuale in uno schema fisico per MongoDB.\n",
    "\n",
    "Si è deciso di creare **3 bucket**:\n",
    "- `Swipe`\n",
    "- `VeronaCard`\n",
    "- `POI`\n",
    "\n",
    "Si è deciso di effettuare **mappatura esterna** per:\n",
    "- `Swipe -> VeronaCard` mediante un `LinkToVRC` riferito al `VeronaCard Serial`;\n",
    "- `Swipe -> POI` mediante un `LinkToPOI` riferito al `POI Name`\n",
    "\n",
    "Si è deciso di effettuare **mappatura interna** per:\n",
    "- `POI -> Devices`, incapsulando nel POI i dati del Device associato;\n",
    "\n",
    "**Ne segue il seguente schema fisico**:\n",
    "![SCHEMA_FISICO](physicSchema.png)"
   ]
  },
  {
   "cell_type": "markdown",
   "metadata": {},
   "source": [
    "# FASE 3: Preparazione JSON da caricare su MongoDB "
   ]
  },
  {
   "cell_type": "markdown",
   "metadata": {},
   "source": [
    "## Connessione al Database MongoDB"
   ]
  },
  {
   "cell_type": "code",
   "execution_count": 28,
   "metadata": {},
   "outputs": [],
   "source": [
    "def get_database():\n",
    "    CONNECTION_STRING = \"mongodb://localhost:27017/?readPreference=primary&directConnection=true&ssl=false\"\n",
    "    client = MongoClient(CONNECTION_STRING)\n",
    "\n",
    "    return client['FSIProject'] \n",
    "    \n",
    "\n",
    "database = get_database()"
   ]
  },
  {
   "cell_type": "markdown",
   "metadata": {},
   "source": [
    "## Bucket POI"
   ]
  },
  {
   "cell_type": "markdown",
   "metadata": {},
   "source": [
    "#### Creazione del Bucket POI"
   ]
  },
  {
   "cell_type": "code",
   "execution_count": 29,
   "metadata": {},
   "outputs": [],
   "source": [
    "poiBucket = database[\"POI\"]"
   ]
  },
  {
   "cell_type": "markdown",
   "metadata": {},
   "source": [
    "#### Creazione di un JSON composto da `key: POI Name` e `value: [devices]`\n",
    "Si crea un JSON (dizionario) contenente, per ogni POI Name, la lista di tutti i devices associati."
   ]
  },
  {
   "cell_type": "code",
   "execution_count": 30,
   "metadata": {},
   "outputs": [
    {
     "name": "stderr",
     "output_type": "stream",
     "text": [
      "100%|█████████████████████████████████████████████████████████████████████| 2428147/2428147 [00:49<00:00, 48901.34it/s]\n"
     ]
    }
   ],
   "source": [
    "allPoiWithDevices = {}\n",
    "\n",
    "for i in tqdm(range(0, len(dfAllYears))):\n",
    "    try:\n",
    "        allPoiWithDevices[dfAllYears[\"POI\"].iloc[i]]\n",
    "    except:\n",
    "        allPoiWithDevices[dfAllYears[\"POI\"].iloc[i]] = []\n",
    "    \n",
    "    devices = allPoiWithDevices[dfAllYears[\"POI\"].iloc[i]]\n",
    "    device = dfAllYears[\"Device\"].iloc[i]\n",
    "    \n",
    "    if device not in devices:\n",
    "        devices.append(int(device))"
   ]
  },
  {
   "cell_type": "code",
   "execution_count": 31,
   "metadata": {},
   "outputs": [
    {
     "data": {
      "text/plain": [
       "{'Tomba Giulietta': [40],\n",
       " 'Casa Giulietta': [27, 28],\n",
       " 'Castelvecchio': [35],\n",
       " 'Teatro Romano': [44, 39, 24],\n",
       " 'Arena': [25, 28, 55],\n",
       " 'Centro Fotografia': [23],\n",
       " 'Santa Anastasia': [29, 45],\n",
       " 'Duomo': [31, 23],\n",
       " 'Palazzo della Ragione': [46],\n",
       " 'San Zeno': [26],\n",
       " 'Torre Lamberti': [41],\n",
       " 'San Fermo': [30],\n",
       " 'Museo Radio': [33],\n",
       " 'Museo Storia': [37],\n",
       " 'Giardino Giusti': [43],\n",
       " 'Museo Lapidario': [38],\n",
       " 'AMO': [42],\n",
       " 'Museo Miniscalchi': [32, 29],\n",
       " 'Verona Tour': [52],\n",
       " 'Museo Africano': [34],\n",
       " 'Sighseeing': [50, 51, 53, 57],\n",
       " 'Museo Conte': [23]}"
      ]
     },
     "execution_count": 31,
     "metadata": {},
     "output_type": "execute_result"
    }
   ],
   "source": [
    "allPoiWithDevices"
   ]
  },
  {
   "cell_type": "markdown",
   "metadata": {},
   "source": [
    "#### Creazione lista di oggetti POI\n",
    "Si crea una lista di JSON (dizionario) contenente gli oggetti rappresentati i POI, ciascuno composto da: `_id`, `name` e `devices`."
   ]
  },
  {
   "cell_type": "code",
   "execution_count": 32,
   "metadata": {},
   "outputs": [
    {
     "name": "stderr",
     "output_type": "stream",
     "text": [
      "100%|██████████████████████████████████████████████████████████████████████████████████████████| 22/22 [00:00<?, ?it/s]\n"
     ]
    }
   ],
   "source": [
    "data = []\n",
    "\n",
    "for elem in tqdm(allPoiWithDevices):\n",
    "    poi = {}\n",
    "    poi[\"_id\"] = elem\n",
    "    poi[\"devices\"] = allPoiWithDevices[elem]\n",
    "\n",
    "    data.append(poi)"
   ]
  },
  {
   "cell_type": "code",
   "execution_count": 33,
   "metadata": {
    "scrolled": true
   },
   "outputs": [
    {
     "data": {
      "text/plain": [
       "[{'_id': 'Tomba Giulietta', 'devices': [40]},\n",
       " {'_id': 'Casa Giulietta', 'devices': [27, 28]},\n",
       " {'_id': 'Castelvecchio', 'devices': [35]},\n",
       " {'_id': 'Teatro Romano', 'devices': [44, 39, 24]},\n",
       " {'_id': 'Arena', 'devices': [25, 28, 55]},\n",
       " {'_id': 'Centro Fotografia', 'devices': [23]},\n",
       " {'_id': 'Santa Anastasia', 'devices': [29, 45]},\n",
       " {'_id': 'Duomo', 'devices': [31, 23]},\n",
       " {'_id': 'Palazzo della Ragione', 'devices': [46]},\n",
       " {'_id': 'San Zeno', 'devices': [26]},\n",
       " {'_id': 'Torre Lamberti', 'devices': [41]},\n",
       " {'_id': 'San Fermo', 'devices': [30]},\n",
       " {'_id': 'Museo Radio', 'devices': [33]},\n",
       " {'_id': 'Museo Storia', 'devices': [37]},\n",
       " {'_id': 'Giardino Giusti', 'devices': [43]},\n",
       " {'_id': 'Museo Lapidario', 'devices': [38]},\n",
       " {'_id': 'AMO', 'devices': [42]},\n",
       " {'_id': 'Museo Miniscalchi', 'devices': [32, 29]},\n",
       " {'_id': 'Verona Tour', 'devices': [52]},\n",
       " {'_id': 'Museo Africano', 'devices': [34]},\n",
       " {'_id': 'Sighseeing', 'devices': [50, 51, 53, 57]},\n",
       " {'_id': 'Museo Conte', 'devices': [23]}]"
      ]
     },
     "execution_count": 33,
     "metadata": {},
     "output_type": "execute_result"
    }
   ],
   "source": [
    "data"
   ]
  },
  {
   "cell_type": "code",
   "execution_count": 34,
   "metadata": {},
   "outputs": [
    {
     "data": {
      "text/plain": [
       "<pymongo.results.InsertManyResult at 0x1dab98bee20>"
      ]
     },
     "execution_count": 34,
     "metadata": {},
     "output_type": "execute_result"
    }
   ],
   "source": [
    "poiBucket.insert_many(data)"
   ]
  },
  {
   "cell_type": "markdown",
   "metadata": {},
   "source": [
    "## Bucket VeronaCard"
   ]
  },
  {
   "cell_type": "markdown",
   "metadata": {},
   "source": [
    "#### Creazione del Bucket VeronaCard"
   ]
  },
  {
   "cell_type": "code",
   "execution_count": 35,
   "metadata": {},
   "outputs": [],
   "source": [
    "vrcBucket = database[\"VeronaCard\"]"
   ]
  },
  {
   "cell_type": "markdown",
   "metadata": {},
   "source": [
    "#### Creazione di un JSON composto da `key: VeronaCard Serial` e `value: sale, activationDate, profile`\n",
    "Si crea un JSON (dizionario) contenente, per ogni VeronaCard Serial, i dati associati."
   ]
  },
  {
   "cell_type": "code",
   "execution_count": 36,
   "metadata": {},
   "outputs": [
    {
     "name": "stderr",
     "output_type": "stream",
     "text": [
      "100%|█████████████████████████████████████████████████████████████████████| 2428147/2428147 [01:45<00:00, 22918.62it/s]\n"
     ]
    }
   ],
   "source": [
    "allVrCWithData = {}\n",
    "\n",
    "for i in tqdm(range(0, len(dfAllYears))):\n",
    "    try:\n",
    "        allVrCWithData[dfAllYears[\"VrC Serial\"].iloc[i]]\n",
    "    except:\n",
    "        allVrCWithData[dfAllYears[\"VrC Serial\"].iloc[i]] = {}\n",
    "    \n",
    "    VrCData = allVrCWithData[dfAllYears[\"VrC Serial\"].iloc[i]]\n",
    "    \n",
    "    VrCData[\"serial\"] = dfAllYears[\"VrC Serial\"].iloc[i]\n",
    "    VrCData[\"sale\"] = dfAllYears[\"Sale\"].iloc[i]     \n",
    "    VrCData[\"activationDate\"] = dfAllYears[\"Activation Date\"].iloc[i]    \n",
    "    VrCData[\"profile\"] = dfAllYears[\"Profile\"].iloc[i]    "
   ]
  },
  {
   "cell_type": "code",
   "execution_count": 37,
   "metadata": {
    "scrolled": true
   },
   "outputs": [
    {
     "data": {
      "text/plain": [
       "{'049B31523F3880': {'serial': '049B31523F3880',\n",
       "  'sale': 1,\n",
       "  'activationDate': Timestamp('2014-12-30 00:00:00'),\n",
       "  'profile': '24 Ore'},\n",
       " '049B26523F3880': {'serial': '049B26523F3880',\n",
       "  'sale': 1,\n",
       "  'activationDate': Timestamp('2014-12-30 00:00:00'),\n",
       "  'profile': '24 Ore'},\n",
       " '04C316523F3884': {'serial': '04C316523F3884',\n",
       "  'sale': 1,\n",
       "  'activationDate': Timestamp('2014-12-30 00:00:00'),\n",
       "  'profile': '72 Ore'},\n",
       " '04C315523F3884': {'serial': '04C315523F3884',\n",
       "  'sale': 1,\n",
       "  'activationDate': Timestamp('2014-12-30 00:00:00'),\n",
       "  'profile': '72 Ore'},\n",
       " '045955523F3880': {'serial': '045955523F3880',\n",
       "  'sale': 1,\n",
       "  'activationDate': Timestamp('2014-12-30 00:00:00'),\n",
       "  'profile': '24 Ore'}}"
      ]
     },
     "execution_count": 37,
     "metadata": {},
     "output_type": "execute_result"
    }
   ],
   "source": [
    "# Solo primi 5 elementi per questioni di \"pretty printing\"\n",
    "dict(itertools.islice(allVrCWithData.items(), 5)) "
   ]
  },
  {
   "cell_type": "markdown",
   "metadata": {},
   "source": [
    "#### Creazione lista di oggetti VeronaCard\n",
    "Si crea una lista di JSON (dizionario) contenente gli oggetti rappresentati le VeronaCards, ciascuno composto da: `serial`, `sale`, `activationDate` e `profile`."
   ]
  },
  {
   "cell_type": "code",
   "execution_count": 38,
   "metadata": {},
   "outputs": [
    {
     "name": "stderr",
     "output_type": "stream",
     "text": [
      "100%|██████████████████████████████████████████████████████████████████████| 490759/490759 [00:00<00:00, 598853.33it/s]\n"
     ]
    }
   ],
   "source": [
    "data = []\n",
    "\n",
    "for elem in tqdm(allVrCWithData):\n",
    "    VrC = {}\n",
    "    VrC[\"_id\"] = elem\n",
    "    VrC[\"sale\"] = int(allVrCWithData[elem][\"sale\"])\n",
    "    VrC[\"activationDate\"] = allVrCWithData[elem][\"activationDate\"]\n",
    "    VrC[\"profile\"] = allVrCWithData[elem][\"profile\"]\n",
    "\n",
    "    data.append(VrC)"
   ]
  },
  {
   "cell_type": "code",
   "execution_count": 39,
   "metadata": {
    "scrolled": true
   },
   "outputs": [
    {
     "data": {
      "text/plain": [
       "[{'_id': '049B31523F3880',\n",
       "  'sale': 1,\n",
       "  'activationDate': Timestamp('2014-12-30 00:00:00'),\n",
       "  'profile': '24 Ore'},\n",
       " {'_id': '049B26523F3880',\n",
       "  'sale': 1,\n",
       "  'activationDate': Timestamp('2014-12-30 00:00:00'),\n",
       "  'profile': '24 Ore'},\n",
       " {'_id': '04C316523F3884',\n",
       "  'sale': 1,\n",
       "  'activationDate': Timestamp('2014-12-30 00:00:00'),\n",
       "  'profile': '72 Ore'},\n",
       " {'_id': '04C315523F3884',\n",
       "  'sale': 1,\n",
       "  'activationDate': Timestamp('2014-12-30 00:00:00'),\n",
       "  'profile': '72 Ore'},\n",
       " {'_id': '045955523F3880',\n",
       "  'sale': 1,\n",
       "  'activationDate': Timestamp('2014-12-30 00:00:00'),\n",
       "  'profile': '24 Ore'}]"
      ]
     },
     "execution_count": 39,
     "metadata": {},
     "output_type": "execute_result"
    }
   ],
   "source": [
    "# Solo primi 5 elementi per questioni di \"pretty printing\"\n",
    "data[:5]"
   ]
  },
  {
   "cell_type": "code",
   "execution_count": 40,
   "metadata": {
    "scrolled": true
   },
   "outputs": [
    {
     "data": {
      "text/plain": [
       "<pymongo.results.InsertManyResult at 0x1da8ec05bb0>"
      ]
     },
     "execution_count": 40,
     "metadata": {},
     "output_type": "execute_result"
    }
   ],
   "source": [
    "vrcBucket.insert_many(data)"
   ]
  },
  {
   "cell_type": "markdown",
   "metadata": {},
   "source": [
    "## Bucket Swipe"
   ]
  },
  {
   "cell_type": "markdown",
   "metadata": {},
   "source": [
    "#### Creazione del Bucket Swipes"
   ]
  },
  {
   "cell_type": "code",
   "execution_count": 41,
   "metadata": {},
   "outputs": [],
   "source": [
    "swipeBucket = database[\"Swipe\"]"
   ]
  },
  {
   "cell_type": "markdown",
   "metadata": {},
   "source": [
    "#### Creazione lista di oggetti Swipe\n",
    "Si crea una lista di JSON (dizionario) contenente gli oggetti rappresentati le Swipes, ciascuna composta da: `date`, `type`, `POI` e `VRC`."
   ]
  },
  {
   "cell_type": "code",
   "execution_count": 42,
   "metadata": {},
   "outputs": [
    {
     "name": "stderr",
     "output_type": "stream",
     "text": [
      "100%|█████████████████████████████████████████████████████████████████████| 2428147/2428147 [01:12<00:00, 33512.49it/s]\n"
     ]
    }
   ],
   "source": [
    "data = []\n",
    "\n",
    "for i in tqdm(range(0,len(dfAllYears))):\n",
    "    swipe = {}\n",
    "    swipe[\"_id\"] = int(i+1)\n",
    "    swipe[\"date\"] = dfAllYears['Timestamp'].iloc[i]\n",
    "    swipe[\"type\"] = dfAllYears['In Out'].iloc[i]\n",
    "    swipe[\"POI\"] = dfAllYears['POI'].iloc[i]\n",
    "    swipe[\"VRC\"] = dfAllYears['VrC Serial'].iloc[i]\n",
    "\n",
    "    data.append(swipe)"
   ]
  },
  {
   "cell_type": "code",
   "execution_count": 43,
   "metadata": {
    "scrolled": true
   },
   "outputs": [
    {
     "data": {
      "text/plain": [
       "[{'_id': 1,\n",
       "  'date': Timestamp('2014-12-30 18:40:38'),\n",
       "  'type': 'in',\n",
       "  'POI': 'Tomba Giulietta',\n",
       "  'VRC': '049B31523F3880'},\n",
       " {'_id': 2,\n",
       "  'date': Timestamp('2014-12-30 18:40:36'),\n",
       "  'type': 'in',\n",
       "  'POI': 'Tomba Giulietta',\n",
       "  'VRC': '049B26523F3880'},\n",
       " {'_id': 3,\n",
       "  'date': Timestamp('2014-12-30 18:29:31'),\n",
       "  'type': 'in',\n",
       "  'POI': 'Casa Giulietta',\n",
       "  'VRC': '04C316523F3884'},\n",
       " {'_id': 4,\n",
       "  'date': Timestamp('2014-12-30 18:29:30'),\n",
       "  'type': 'in',\n",
       "  'POI': 'Casa Giulietta',\n",
       "  'VRC': '04C315523F3884'},\n",
       " {'_id': 5,\n",
       "  'date': Timestamp('2014-12-30 18:29:15'),\n",
       "  'type': 'in',\n",
       "  'POI': 'Casa Giulietta',\n",
       "  'VRC': '045955523F3880'}]"
      ]
     },
     "execution_count": 43,
     "metadata": {},
     "output_type": "execute_result"
    }
   ],
   "source": [
    "# Solo primi 5 elementi per questioni di \"pretty printing\"\n",
    "data[:5]"
   ]
  },
  {
   "cell_type": "code",
   "execution_count": 44,
   "metadata": {
    "scrolled": true
   },
   "outputs": [
    {
     "data": {
      "text/plain": [
       "<pymongo.results.InsertManyResult at 0x1da9b852250>"
      ]
     },
     "execution_count": 44,
     "metadata": {},
     "output_type": "execute_result"
    }
   ],
   "source": [
    "swipeBucket.insert_many(data)"
   ]
  },
  {
   "cell_type": "markdown",
   "metadata": {},
   "source": [
    "# FASE 4: Esecuzione delle query"
   ]
  },
  {
   "cell_type": "markdown",
   "metadata": {},
   "source": [
    "## Query 1\n",
    "*Assegnato punto di interesse e mese di un anno, trovare per ogni giorno del mese il numero totale di accessi a quel POI.  \n",
    "Fare poi un grafico.*"
   ]
  },
  {
   "cell_type": "markdown",
   "metadata": {},
   "source": [
    "#### Parametri della query"
   ]
  },
  {
   "cell_type": "code",
   "execution_count": 45,
   "metadata": {},
   "outputs": [],
   "source": [
    "poi = \"Duomo\"\n",
    "month = 6\n",
    "year = 2016\n",
    "\n",
    "year2 = year\n",
    "month2 = month+1\n",
    "if month == 12:\n",
    "    month2 = 1\n",
    "    year2 = year+1\n",
    "    \n",
    "start = datetime(year, month, 1, 0, 0, 0)\n",
    "end = datetime(year2, month2, 1, 0, 0, 0)"
   ]
  },
  {
   "cell_type": "markdown",
   "metadata": {},
   "source": [
    "#### Esecuzione della query"
   ]
  },
  {
   "cell_type": "code",
   "execution_count": 46,
   "metadata": {},
   "outputs": [],
   "source": [
    "query1 = {\n",
    "    \"POI\" : poi,\n",
    "    \"date\" : { \"$gte\": start, \"$lt\": end },\n",
    "}\n",
    "\n",
    "query1Result = swipeBucket.find(query1)"
   ]
  },
  {
   "cell_type": "markdown",
   "metadata": {},
   "source": [
    "#### Elaborazione del risultato\n",
    "La `query1` ritorna le `swipes` effettuate nel `mese`, nell'`anno` e nel `POI` specificato. Per ogni `giorno` del mese e dell'anno, si va a contare il numero di swipes presenti nel risultato.   \n",
    "\n",
    "Si costruisce quindi un dizionario così composto: {`dataGiorno` : `numero int`}"
   ]
  },
  {
   "cell_type": "code",
   "execution_count": 47,
   "metadata": {},
   "outputs": [
    {
     "name": "stderr",
     "output_type": "stream",
     "text": [
      "2711it [00:01, 1797.15it/s]\n"
     ]
    }
   ],
   "source": [
    "data = {}\n",
    "\n",
    "for x in tqdm(query1Result):\n",
    "    x[\"date\"] = str(x[\"date\"]).split(\" \")[0]\n",
    "    \n",
    "    try:\n",
    "        data[x[\"date\"]]\n",
    "    except:\n",
    "        data[x[\"date\"]] = 0\n",
    "    \n",
    "    data[x[\"date\"]]+=1"
   ]
  },
  {
   "cell_type": "markdown",
   "metadata": {},
   "source": [
    "Il dizionario viene ordinato per key e vengono creati due array:\n",
    "- `xs`: asse delle x, contiene il giorno/mese/anno\n",
    "- `ys`: asse delle y, contiene il conteggio nel relativo valore delle `xs`"
   ]
  },
  {
   "cell_type": "code",
   "execution_count": 48,
   "metadata": {},
   "outputs": [],
   "source": [
    "dataItems = data.items()\n",
    "sortedDataItems = sorted(dataItems)\n",
    "xs = [x[0] for x in sortedDataItems]\n",
    "ys = [y[1] for y in sortedDataItems]"
   ]
  },
  {
   "cell_type": "markdown",
   "metadata": {},
   "source": [
    "#### Generazione del grafico delle swipes per giorno\n",
    "Viene creato un grafico per visualizzare il risultato."
   ]
  },
  {
   "cell_type": "code",
   "execution_count": 49,
   "metadata": {},
   "outputs": [
    {
     "data": {
      "image/png": "[encoded data removed]",
      "text/plain": [
       "<Figure size 1224x360 with 1 Axes>"
      ]
     },
     "metadata": {
      "needs_background": "light"
     },
     "output_type": "display_data"
    }
   ],
   "source": [
    "plt.figure(figsize=(17,5))\n",
    "plt.title(\"Swipes per giornata nel corso del \" + str(month) + \"° mese del \" + str(year), fontdict={\"size\": 15})\n",
    "plt.xlabel(\"DATE\", fontdict={\"size\": 10})\n",
    "plt.ylabel(\"SWIPES\", fontdict={\"size\": 10})\n",
    "plt.xticks(range(len(data)), list(xs), rotation = 45)\n",
    "plt.bar(range(len(data)), list(ys), align='center', color = \"#FFB300\")\n",
    "plt.show()"
   ]
  },
  {
   "cell_type": "markdown",
   "metadata": {},
   "source": [
    "## Query 2\n",
    "*Assegnato un giorno, trovare il POI con il massimo numero di accessi nel giorno assegnato.*"
   ]
  },
  {
   "cell_type": "markdown",
   "metadata": {},
   "source": [
    "#### Parametri della query"
   ]
  },
  {
   "cell_type": "code",
   "execution_count": 50,
   "metadata": {},
   "outputs": [],
   "source": [
    "day = 17\n",
    "month = 5\n",
    "year = 2015\n",
    "\n",
    "start = datetime(year, month, day, 0, 0, 0)\n",
    "end = datetime(year, month, day, 23, 59, 59)"
   ]
  },
  {
   "cell_type": "markdown",
   "metadata": {},
   "source": [
    "#### Esecuzione della query"
   ]
  },
  {
   "cell_type": "code",
   "execution_count": 51,
   "metadata": {},
   "outputs": [],
   "source": [
    "query2 = {\n",
    "    \"date\" : { \"$gte\": start, \"$lte\": end },\n",
    "}\n",
    "\n",
    "query2Result = swipeBucket.find(query2)"
   ]
  },
  {
   "cell_type": "markdown",
   "metadata": {},
   "source": [
    "#### Elaborazione del risultato\n",
    "La `query2` ritorna le `swipes` effettuate nel `giorno` specificato. Per ogni `POI`, si va a contare il numero di swipes presenti nel risultato.   \n",
    "\n",
    "Si costruisce quindi un dizionario così composto: {`POI` : `numero int`}"
   ]
  },
  {
   "cell_type": "code",
   "execution_count": 52,
   "metadata": {},
   "outputs": [
    {
     "name": "stderr",
     "output_type": "stream",
     "text": [
      "1077it [00:01, 784.13it/s]\n"
     ]
    }
   ],
   "source": [
    "data = {}\n",
    "\n",
    "for x in tqdm(query2Result):  \n",
    "    try:\n",
    "        data[x[\"POI\"]]\n",
    "    except:\n",
    "        data[x[\"POI\"]] = 0\n",
    "    \n",
    "    data[x[\"POI\"]]+=1"
   ]
  },
  {
   "cell_type": "markdown",
   "metadata": {},
   "source": [
    "Il dizionario viene ordinato per key e vengono creati due array:\n",
    "- `xs`: asse delle x, contiene il `POI`\n",
    "- `ys`: asse delle y, contiene il conteggio nel relativo valore delle `xs`"
   ]
  },
  {
   "cell_type": "code",
   "execution_count": 53,
   "metadata": {},
   "outputs": [],
   "source": [
    "dataItems = data.items()\n",
    "sortedDataItems = sorted(dataItems)\n",
    "xs = [x[0] for x in sortedDataItems]\n",
    "ys = [y[1] for y in sortedDataItems]"
   ]
  },
  {
   "cell_type": "markdown",
   "metadata": {},
   "source": [
    "#### Generazione del grafico delle swipes per POI\n",
    "Viene creato un grafico per visualizzare il risultato."
   ]
  },
  {
   "cell_type": "code",
   "execution_count": 54,
   "metadata": {},
   "outputs": [
    {
     "data": {
      "image/png": "[encoded data removed]",
      "text/plain": [
       "<Figure size 1224x360 with 1 Axes>"
      ]
     },
     "metadata": {
      "needs_background": "light"
     },
     "output_type": "display_data"
    }
   ],
   "source": [
    "plt.figure(figsize=(17,5))\n",
    "plt.title(\"Swipes per POI nel giorno: \" + str(start).split(\" \")[0], fontdict={\"size\": 15})\n",
    "plt.xlabel(\"POI\", fontdict={\"size\": 10})\n",
    "plt.ylabel(\"SWIPES\", fontdict={\"size\": 10})\n",
    "plt.bar(range(len(data)), list(ys), align='center', color = \"#7CB342\")\n",
    "plt.xticks(range(len(data)), list(xs), rotation = 45)\n",
    "plt.show()"
   ]
  },
  {
   "cell_type": "markdown",
   "metadata": {},
   "source": [
    "#### Individuazione del POI con massimo numero di swipes"
   ]
  },
  {
   "cell_type": "code",
   "execution_count": 55,
   "metadata": {},
   "outputs": [
    {
     "name": "stdout",
     "output_type": "stream",
     "text": [
      "Arena: 190\n"
     ]
    }
   ],
   "source": [
    "poiWithMaxSwipes = max(data, key=data.get)\n",
    "print(poiWithMaxSwipes + \": \" + str(data[poiWithMaxSwipes]))"
   ]
  },
  {
   "cell_type": "markdown",
   "metadata": {},
   "source": [
    "## Query 3 \n",
    "*Assegnato un profilo, trovare i codici di Verona Card con tale profilo che hanno fatto almeno 3 strisciate (in 3 poi diversi) in uno stesso giorno, riportando nel risultato le strisicate di ciascuna verona card*"
   ]
  },
  {
   "cell_type": "markdown",
   "metadata": {},
   "source": [
    "#### Parametri della query"
   ]
  },
  {
   "cell_type": "code",
   "execution_count": 56,
   "metadata": {},
   "outputs": [],
   "source": [
    "profile = \"24 Ore\""
   ]
  },
  {
   "cell_type": "markdown",
   "metadata": {},
   "source": [
    "#### Esecuzione della query"
   ]
  },
  {
   "cell_type": "code",
   "execution_count": 57,
   "metadata": {},
   "outputs": [],
   "source": [
    "query3 = [\n",
    "    {\n",
    "        '$lookup': {\n",
    "            'from': 'VeronaCard', \n",
    "            'localField': 'VRC', \n",
    "            'foreignField': '_id', \n",
    "            'as': 'veronaCardData'\n",
    "        }\n",
    "    },\n",
    "    {\n",
    "        \"$match\": {\n",
    "            \"veronaCardData.profile\": profile\n",
    "        }\n",
    "    }\n",
    "]\n",
    "\n",
    "query3Result = swipeBucket.aggregate(query3)"
   ]
  },
  {
   "cell_type": "markdown",
   "metadata": {},
   "source": [
    "#### Elaborazione del risultato\n",
    "La `query3` ritorna le `swipes` effettuate dalle `Verona Cards` aventi `profile` pari al profilo specificato.   \n",
    "Si genera quindi un dizionario composto come segue: {`VRC` : `swipesPerDay`}.  \n",
    "Qui, `swipesPerDay` è a sua volta un dizionario, composto nel seguente modo: {`dayDate` : `[swipe]`}.  \n",
    "Ancora una volta, `swipe` risulta essere un ulteriore dizionario, così formato: {`_id` : `swipeId`, `POI` : `swipePOI`}\n",
    "\n",
    "Il risultato finale è della forma:   \n",
    "`{\n",
    "  'VRC Serial1': {\n",
    "                  'DAY DATE1': [{'_id': SWIPE ID, 'POI': 'POI NAME'}, ... ],\n",
    "                  'DAY DATE2': [{ ... }, ...]\n",
    "                 },\n",
    "  'VRC Serial2': { ... },\n",
    "  ...\n",
    "}`"
   ]
  },
  {
   "cell_type": "code",
   "execution_count": 58,
   "metadata": {},
   "outputs": [
    {
     "name": "stderr",
     "output_type": "stream",
     "text": [
      "359248it [02:46, 2163.99it/s]\n"
     ]
    }
   ],
   "source": [
    "data = {}\n",
    "\n",
    "for x in tqdm(query3Result):  \n",
    "    try:\n",
    "        data[x[\"VRC\"]]\n",
    "    except:\n",
    "        data[x[\"VRC\"]] = {}\n",
    "    \n",
    "    date = str(x[\"date\"]).split(\" \")[0] \n",
    "    \n",
    "    try:\n",
    "        data[x[\"VRC\"]][date]\n",
    "    except:\n",
    "        data[x[\"VRC\"]][date] = []\n",
    "        \n",
    "        \n",
    "    swipesList = data[x[\"VRC\"]][date]\n",
    "    \n",
    "    differentPoi = True\n",
    "    for swipe in swipesList:\n",
    "        if swipe[\"POI\"] == x['POI']:\n",
    "            differentPoi = False\n",
    "    \n",
    "    if differentPoi:\n",
    "        newSwipe = {}\n",
    "        newSwipe['_id'] = x[\"_id\"]\n",
    "        newSwipe['POI'] = x[\"POI\"]\n",
    "        swipesList.append(newSwipe)"
   ]
  },
  {
   "cell_type": "markdown",
   "metadata": {},
   "source": [
    "Una volta creato il dizionario d'interesse, si vogliono mantenere unicamente i `Verona Card Serial` di quelle Verona Cards che abbiamo effettuato almeno 3 swipes nella stessa giornata.   \n",
    "In altri termini, un Verona Card Serial è considerato **\"valido\"** se esiste **almeno una data per cui l'array associato abbia lunghezza almeno 3**.   \n",
    "\n",
    "Si va quindi a **creare un nuovo dizionario risultato**, composto nella medesima forma del dizionario precedente, contenente unicamente i codici delle Verona Card d'interesse, associato a ciascuna di loro le date e le swipes che soddisfano i parametri di ricerca della query. "
   ]
  },
  {
   "cell_type": "code",
   "execution_count": 59,
   "metadata": {
    "scrolled": false
   },
   "outputs": [
    {
     "name": "stderr",
     "output_type": "stream",
     "text": [
      "100%|████████████████████████████████████████████████████████████████████████| 74880/74880 [00:00<00:00, 470946.46it/s]\n"
     ]
    }
   ],
   "source": [
    "validData = {}\n",
    "\n",
    "for vrc in tqdm(data):\n",
    "    dates = data[vrc]\n",
    "    for date in dates:\n",
    "        if len(dates[date]) >= 3:\n",
    "            try:\n",
    "                validData[vrc]\n",
    "            except:\n",
    "                validData[vrc] = {}\n",
    "            \n",
    "            validData[vrc][date] = dates[date]"
   ]
  },
  {
   "cell_type": "code",
   "execution_count": 60,
   "metadata": {},
   "outputs": [
    {
     "data": {
      "text/plain": [
       "{'049B31523F3880': {'2014-12-30': [{'_id': 1, 'POI': 'Tomba Giulietta'},\n",
       "   {'_id': 84, 'POI': 'Arena'},\n",
       "   {'_id': 156, 'POI': 'Casa Giulietta'},\n",
       "   {'_id': 314, 'POI': 'Duomo'},\n",
       "   {'_id': 438, 'POI': 'Santa Anastasia'}]},\n",
       " '049B26523F3880': {'2014-12-30': [{'_id': 2, 'POI': 'Tomba Giulietta'},\n",
       "   {'_id': 83, 'POI': 'Arena'},\n",
       "   {'_id': 155, 'POI': 'Casa Giulietta'},\n",
       "   {'_id': 313, 'POI': 'Duomo'},\n",
       "   {'_id': 437, 'POI': 'Santa Anastasia'}]},\n",
       " '04AA64523F3880': {'2014-12-30': [{'_id': 9, 'POI': 'Tomba Giulietta'},\n",
       "   {'_id': 219, 'POI': 'Torre Lamberti'},\n",
       "   {'_id': 561, 'POI': 'Arena'}]},\n",
       " '04AA65523F3880': {'2014-12-30': [{'_id': 10, 'POI': 'Tomba Giulietta'},\n",
       "   {'_id': 218, 'POI': 'Torre Lamberti'},\n",
       "   {'_id': 562, 'POI': 'Arena'}]},\n",
       " '04AB12523F3880': {'2014-12-30': [{'_id': 11, 'POI': 'Castelvecchio'},\n",
       "   {'_id': 321, 'POI': 'Santa Anastasia'},\n",
       "   {'_id': 680, 'POI': 'Casa Giulietta'},\n",
       "   {'_id': 910, 'POI': 'Torre Lamberti'},\n",
       "   {'_id': 1202, 'POI': 'Arena'}]}}"
      ]
     },
     "execution_count": 60,
     "metadata": {},
     "output_type": "execute_result"
    }
   ],
   "source": [
    "# Solo primi 5 elementi per questioni di \"pretty printing\"\n",
    "dict(itertools.islice(validData.items(), 5)) "
   ]
  }
 ],
 "metadata": {
  "kernelspec": {
   "display_name": "Python 3",
   "language": "python",
   "name": "python3"
  },
  "language_info": {
   "codemirror_mode": {
    "name": "ipython",
    "version": 3
   },
   "file_extension": ".py",
   "mimetype": "text/x-python",
   "name": "python",
   "nbconvert_exporter": "python",
   "pygments_lexer": "ipython3",
   "version": "3.8.3"
  }
 },
 "nbformat": 4,
 "nbformat_minor": 4
}
